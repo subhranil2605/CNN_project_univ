{
 "cells": [
  {
   "cell_type": "code",
   "execution_count": 1,
   "id": "6b2b1186-033e-4a70-86ef-ac5ce1118954",
   "metadata": {},
   "outputs": [],
   "source": [
    "import numpy as np\n",
    "from numpy import ndarray\n",
    "import pandas as pd\n",
    "import matplotlib.pyplot as plt\n",
    "from tqdm import tqdm\n",
    "\n",
    "np.random.seed(1059)"
   ]
  },
  {
   "cell_type": "code",
   "execution_count": 2,
   "id": "f6dedfd6-d9ff-45fe-97ea-4ea48c784767",
   "metadata": {},
   "outputs": [
    {
     "data": {
      "text/html": [
       "<div>\n",
       "<style scoped>\n",
       "    .dataframe tbody tr th:only-of-type {\n",
       "        vertical-align: middle;\n",
       "    }\n",
       "\n",
       "    .dataframe tbody tr th {\n",
       "        vertical-align: top;\n",
       "    }\n",
       "\n",
       "    .dataframe thead th {\n",
       "        text-align: right;\n",
       "    }\n",
       "</style>\n",
       "<table border=\"1\" class=\"dataframe\">\n",
       "  <thead>\n",
       "    <tr style=\"text-align: right;\">\n",
       "      <th></th>\n",
       "      <th>0</th>\n",
       "      <th>1</th>\n",
       "      <th>2</th>\n",
       "      <th>3</th>\n",
       "      <th>4</th>\n",
       "      <th>5</th>\n",
       "      <th>6</th>\n",
       "      <th>7</th>\n",
       "      <th>8</th>\n",
       "      <th>9</th>\n",
       "      <th>...</th>\n",
       "      <th>775</th>\n",
       "      <th>776</th>\n",
       "      <th>777</th>\n",
       "      <th>778</th>\n",
       "      <th>779</th>\n",
       "      <th>780</th>\n",
       "      <th>781</th>\n",
       "      <th>782</th>\n",
       "      <th>783</th>\n",
       "      <th>784</th>\n",
       "    </tr>\n",
       "  </thead>\n",
       "  <tbody>\n",
       "    <tr>\n",
       "      <th>0</th>\n",
       "      <td>0.0</td>\n",
       "      <td>0.0</td>\n",
       "      <td>0.0</td>\n",
       "      <td>0.0</td>\n",
       "      <td>0.0</td>\n",
       "      <td>0.0</td>\n",
       "      <td>0.0</td>\n",
       "      <td>0.0</td>\n",
       "      <td>0.0</td>\n",
       "      <td>0.0</td>\n",
       "      <td>...</td>\n",
       "      <td>0.0</td>\n",
       "      <td>0.0</td>\n",
       "      <td>0.0</td>\n",
       "      <td>0.0</td>\n",
       "      <td>0.0</td>\n",
       "      <td>0.0</td>\n",
       "      <td>0.0</td>\n",
       "      <td>0.0</td>\n",
       "      <td>0.0</td>\n",
       "      <td>7.0</td>\n",
       "    </tr>\n",
       "    <tr>\n",
       "      <th>1</th>\n",
       "      <td>0.0</td>\n",
       "      <td>0.0</td>\n",
       "      <td>0.0</td>\n",
       "      <td>0.0</td>\n",
       "      <td>0.0</td>\n",
       "      <td>0.0</td>\n",
       "      <td>0.0</td>\n",
       "      <td>0.0</td>\n",
       "      <td>0.0</td>\n",
       "      <td>0.0</td>\n",
       "      <td>...</td>\n",
       "      <td>0.0</td>\n",
       "      <td>0.0</td>\n",
       "      <td>0.0</td>\n",
       "      <td>0.0</td>\n",
       "      <td>0.0</td>\n",
       "      <td>0.0</td>\n",
       "      <td>0.0</td>\n",
       "      <td>0.0</td>\n",
       "      <td>0.0</td>\n",
       "      <td>2.0</td>\n",
       "    </tr>\n",
       "    <tr>\n",
       "      <th>2</th>\n",
       "      <td>0.0</td>\n",
       "      <td>0.0</td>\n",
       "      <td>0.0</td>\n",
       "      <td>0.0</td>\n",
       "      <td>0.0</td>\n",
       "      <td>0.0</td>\n",
       "      <td>0.0</td>\n",
       "      <td>0.0</td>\n",
       "      <td>0.0</td>\n",
       "      <td>0.0</td>\n",
       "      <td>...</td>\n",
       "      <td>0.0</td>\n",
       "      <td>0.0</td>\n",
       "      <td>0.0</td>\n",
       "      <td>0.0</td>\n",
       "      <td>0.0</td>\n",
       "      <td>0.0</td>\n",
       "      <td>0.0</td>\n",
       "      <td>0.0</td>\n",
       "      <td>0.0</td>\n",
       "      <td>1.0</td>\n",
       "    </tr>\n",
       "    <tr>\n",
       "      <th>3</th>\n",
       "      <td>0.0</td>\n",
       "      <td>0.0</td>\n",
       "      <td>0.0</td>\n",
       "      <td>0.0</td>\n",
       "      <td>0.0</td>\n",
       "      <td>0.0</td>\n",
       "      <td>0.0</td>\n",
       "      <td>0.0</td>\n",
       "      <td>0.0</td>\n",
       "      <td>0.0</td>\n",
       "      <td>...</td>\n",
       "      <td>0.0</td>\n",
       "      <td>0.0</td>\n",
       "      <td>0.0</td>\n",
       "      <td>0.0</td>\n",
       "      <td>0.0</td>\n",
       "      <td>0.0</td>\n",
       "      <td>0.0</td>\n",
       "      <td>0.0</td>\n",
       "      <td>0.0</td>\n",
       "      <td>0.0</td>\n",
       "    </tr>\n",
       "    <tr>\n",
       "      <th>4</th>\n",
       "      <td>0.0</td>\n",
       "      <td>0.0</td>\n",
       "      <td>0.0</td>\n",
       "      <td>0.0</td>\n",
       "      <td>0.0</td>\n",
       "      <td>0.0</td>\n",
       "      <td>0.0</td>\n",
       "      <td>0.0</td>\n",
       "      <td>0.0</td>\n",
       "      <td>0.0</td>\n",
       "      <td>...</td>\n",
       "      <td>0.0</td>\n",
       "      <td>0.0</td>\n",
       "      <td>0.0</td>\n",
       "      <td>0.0</td>\n",
       "      <td>0.0</td>\n",
       "      <td>0.0</td>\n",
       "      <td>0.0</td>\n",
       "      <td>0.0</td>\n",
       "      <td>0.0</td>\n",
       "      <td>4.0</td>\n",
       "    </tr>\n",
       "  </tbody>\n",
       "</table>\n",
       "<p>5 rows × 785 columns</p>\n",
       "</div>"
      ],
      "text/plain": [
       "   0    1    2    3    4    5    6    7    8    9    ...  775  776  777  778  \\\n",
       "0  0.0  0.0  0.0  0.0  0.0  0.0  0.0  0.0  0.0  0.0  ...  0.0  0.0  0.0  0.0   \n",
       "1  0.0  0.0  0.0  0.0  0.0  0.0  0.0  0.0  0.0  0.0  ...  0.0  0.0  0.0  0.0   \n",
       "2  0.0  0.0  0.0  0.0  0.0  0.0  0.0  0.0  0.0  0.0  ...  0.0  0.0  0.0  0.0   \n",
       "3  0.0  0.0  0.0  0.0  0.0  0.0  0.0  0.0  0.0  0.0  ...  0.0  0.0  0.0  0.0   \n",
       "4  0.0  0.0  0.0  0.0  0.0  0.0  0.0  0.0  0.0  0.0  ...  0.0  0.0  0.0  0.0   \n",
       "\n",
       "   779  780  781  782  783  784  \n",
       "0  0.0  0.0  0.0  0.0  0.0  7.0  \n",
       "1  0.0  0.0  0.0  0.0  0.0  2.0  \n",
       "2  0.0  0.0  0.0  0.0  0.0  1.0  \n",
       "3  0.0  0.0  0.0  0.0  0.0  0.0  \n",
       "4  0.0  0.0  0.0  0.0  0.0  4.0  \n",
       "\n",
       "[5 rows x 785 columns]"
      ]
     },
     "execution_count": 2,
     "metadata": {},
     "output_type": "execute_result"
    }
   ],
   "source": [
    "df = pd.read_csv(\"mnist.csv\", header=None)\n",
    "df.head()"
   ]
  },
  {
   "cell_type": "code",
   "execution_count": 3,
   "id": "cea3251d-fc9e-47e0-8c32-6ef1dda3b296",
   "metadata": {},
   "outputs": [],
   "source": [
    "X = df.drop(columns = [784])\n",
    "y = df[784]"
   ]
  },
  {
   "cell_type": "code",
   "execution_count": 4,
   "id": "643cfd44-1c59-4712-9d54-0cc75f37c850",
   "metadata": {},
   "outputs": [],
   "source": [
    "img_arr = X.iloc[np.random.randint(len(X))].values\n",
    "img_arr = img_arr.reshape((28, 28))"
   ]
  },
  {
   "cell_type": "code",
   "execution_count": 5,
   "id": "594cb391-f191-4e7f-9bfa-a78664a5e174",
   "metadata": {},
   "outputs": [
    {
     "data": {
      "image/png": "[encoded data removed]",
      "text/plain": [
       "<Figure size 640x480 with 1 Axes>"
      ]
     },
     "metadata": {},
     "output_type": "display_data"
    }
   ],
   "source": [
    "plt.imshow(img_arr, cmap=\"gray\")\n",
    "plt.axis(\"off\")\n",
    "plt.show()"
   ]
  },
  {
   "cell_type": "code",
   "execution_count": 6,
   "id": "c9ada15c-5f74-42ff-9052-073bffc11a76",
   "metadata": {},
   "outputs": [],
   "source": [
    "def pad_2d(image_arr: ndarray, kernel_size):\n",
    "    N, M = image_arr.shape\n",
    "    m, n = kernel_size\n",
    "    \n",
    "    n_rows = int((m - 1) / 2)\n",
    "    n_cols = int((n - 1) / 2)\n",
    "    \n",
    "    # add top and bottom padding\n",
    "    top_bottom_zeros = np.zeros((n_rows, M))\n",
    "    image_arr = np.vstack([top_bottom_zeros, image_arr, top_bottom_zeros])\n",
    "    \n",
    "    # add left and right padding\n",
    "    left_bottom_zeros = np.zeros((N + n_rows * 2, n_cols)) # (m - 1) rows need to be added\n",
    "    image_arr = np.hstack([left_bottom_zeros, image_arr, left_bottom_zeros])\n",
    "    \n",
    "    image_arr = image_arr.astype('uint64')\n",
    "    \n",
    "    return image_arr"
   ]
  },
  {
   "cell_type": "code",
   "execution_count": 7,
   "id": "e10fd4eb-7fe6-4473-b1a4-435a595c06f5",
   "metadata": {},
   "outputs": [],
   "source": [
    "def inner_product(a: ndarray, b: ndarray):\n",
    "    return np.sum(a * b)"
   ]
  },
  {
   "cell_type": "code",
   "execution_count": 8,
   "id": "5aecef90-e983-427d-96ce-c1937b673497",
   "metadata": {},
   "outputs": [],
   "source": [
    "def conv_2d(inp: ndarray, kernel: ndarray, pad: bool=False) -> ndarray:\n",
    "    \n",
    "    inp_pad = inp\n",
    "    # initialize the output\n",
    "    out = np.zeros((inp.shape[0] - kernel.shape[0] + 1, inp.shape[1] - kernel.shape[1] + 1))\n",
    "    \n",
    "    if pad:\n",
    "        # pad the image\n",
    "        inp_pad = pad_2d(inp, kernel.shape)\n",
    "        out = np.zeros_like(inp)\n",
    "    \n",
    "    # flip the kernel horizontally and vertically\n",
    "    kernel = np.flipud(np.fliplr(kernel))\n",
    "    \n",
    "    # convolution process\n",
    "    for i in range(inp_pad.shape[0] - kernel.shape[0] + 1):\n",
    "        for j in range(inp_pad.shape[1] - kernel.shape[1] + 1):\n",
    "            sub_arr = inp_pad[i:i + kernel.shape[0], j:j + kernel.shape[1]]\n",
    "            out[i, j] = inner_product(sub_arr, kernel)\n",
    "    \n",
    "    return out"
   ]
  },
  {
   "cell_type": "code",
   "execution_count": 9,
   "id": "31ea9029-629f-43d0-a7f1-ef6b9c9723bb",
   "metadata": {},
   "outputs": [],
   "source": [
    "def activation(arr: ndarray, act_fun: str):\n",
    "    def relu(x):\n",
    "        return max(0, x)\n",
    "    \n",
    "    def sigmoid(x):\n",
    "        return 1 / (1 + np.exp(-x))\n",
    "        \n",
    "    \n",
    "    # Apply the function on the array using np.vectorize()\n",
    "    if act_fun == \"relu\":\n",
    "        activaiton_function = np.vectorize(relu)\n",
    "    elif act_fun == \"sigmoid\":\n",
    "        activaiton_function = np.vectorize(sigmoid)\n",
    "    \n",
    "    result_array = activaiton_function(arr)\n",
    "    \n",
    "    return result_array"
   ]
  },
  {
   "cell_type": "code",
   "execution_count": 10,
   "id": "ace9b499-718c-43b3-afeb-1ea57b340767",
   "metadata": {},
   "outputs": [],
   "source": [
    "def maxpooling_2d(arr: ndarray, pool_size: int, stride: int):\n",
    "    out = []\n",
    "    for i in tqdm(range(0, arr.shape[0] - pool_size + 1, stride)):\n",
    "        h = []\n",
    "        for j in range(0, arr.shape[1] - pool_size + 1, stride):\n",
    "            sub_arr = arr[i:i + pool_size, j:j + pool_size]\n",
    "            h.append(np.max(sub_arr))\n",
    "        out.append(h)\n",
    "    return np.array(out)"
   ]
  },
  {
   "cell_type": "code",
   "execution_count": 11,
   "id": "65551dd4-745b-43e5-99c4-64a7027d6f7d",
   "metadata": {},
   "outputs": [],
   "source": [
    "def show_image(inp: ndarray):\n",
    "    plt.imshow(inp, cmap=\"gray\")\n",
    "    plt.axis(\"off\")\n",
    "    plt.show()"
   ]
  },
  {
   "cell_type": "markdown",
   "id": "d1f13f7b-73a7-4efb-9514-bcff567bde7c",
   "metadata": {},
   "source": [
    "## Edge Detection Kernels"
   ]
  },
  {
   "cell_type": "code",
   "execution_count": 12,
   "id": "9b76e47b-04c6-45c0-8c4a-920be91ee619",
   "metadata": {},
   "outputs": [],
   "source": [
    "sobel_x = np.array([\n",
    "    [-1, 0, 1],\n",
    "    [-2, 0, 2],\n",
    "    [-1, 0, 1],\n",
    "])\n",
    "\n",
    "sobel_y = np.array([\n",
    "    [-1, -2, -1],\n",
    "    [0, 0, 0],\n",
    "    [1, 2, 1],\n",
    "])"
   ]
  },
  {
   "cell_type": "markdown",
   "id": "30a6b964-4c3d-4bd5-af27-d0a00be415bc",
   "metadata": {
    "tags": []
   },
   "source": [
    "# Feature Extraction"
   ]
  },
  {
   "cell_type": "markdown",
   "id": "c3574708-e9d7-4c09-ab26-78af4cc1a66a",
   "metadata": {
    "tags": []
   },
   "source": [
    "## Layer 1"
   ]
  },
  {
   "cell_type": "code",
   "execution_count": 13,
   "id": "18e42de7-135e-4e76-a11e-dfde6c650d04",
   "metadata": {},
   "outputs": [],
   "source": [
    "k_size_1 = 5\n",
    "\n",
    "kernels_1 = np.random.randn(2, k_size_1, k_size_1)\n",
    "biases_1 = np.random.randn(2)\n",
    "\n",
    "# for a predefined kernel\n",
    "# kernels_1 = np.stack([sobel_x, sobel_y])"
   ]
  },
  {
   "cell_type": "markdown",
   "id": "be568245-d3bc-4c58-ad85-dcc6c8ec685c",
   "metadata": {},
   "source": [
    "### Convolution"
   ]
  },
  {
   "cell_type": "code",
   "execution_count": 14,
   "id": "59cdc40b-a212-4da4-87ea-5c392e753f52",
   "metadata": {},
   "outputs": [
    {
     "data": {
      "image/png": "[encoded data removed]",
      "text/plain": [
       "<Figure size 640x480 with 2 Axes>"
      ]
     },
     "metadata": {},
     "output_type": "display_data"
    }
   ],
   "source": [
    "filtered_images_1 = [] \n",
    "\n",
    "for k, b in zip(kernels_1, biases_1):\n",
    "    filtered_images_1.append(conv_2d(img_arr, k) + b)\n",
    "    \n",
    "filtered_images_1 = np.array(filtered_images_1)\n",
    "\n",
    "\n",
    "for i, f_img in enumerate(filtered_images_1):\n",
    "    plt.subplot(1, 2, i + 1)\n",
    "    plt.imshow(f_img, cmap=\"gray\")\n",
    "    plt.axis(\"off\")\n",
    "\n",
    "plt.show()"
   ]
  },
  {
   "cell_type": "code",
   "execution_count": 15,
   "id": "19bb0075-d5c2-45c5-91d2-a1512b759475",
   "metadata": {},
   "outputs": [
    {
     "data": {
      "text/plain": [
       "(2, 24, 24)"
      ]
     },
     "execution_count": 15,
     "metadata": {},
     "output_type": "execute_result"
    }
   ],
   "source": [
    "filtered_images_1.shape"
   ]
  },
  {
   "cell_type": "markdown",
   "id": "878e425e-08c3-4342-9005-7117f58a1c3d",
   "metadata": {},
   "source": [
    "### Activation function"
   ]
  },
  {
   "cell_type": "code",
   "execution_count": 16,
   "id": "06fab36b-b4d0-47ab-bd40-6f8aa1b018cf",
   "metadata": {},
   "outputs": [
    {
     "data": {
      "image/png": "[encoded data removed]",
      "text/plain": [
       "<Figure size 640x480 with 2 Axes>"
      ]
     },
     "metadata": {},
     "output_type": "display_data"
    }
   ],
   "source": [
    "# using activation function\n",
    "act_results_1 = np.array([activation(f_img, \"relu\") for f_img in filtered_images_1])\n",
    "\n",
    "for i, f_img in enumerate(act_results_1):\n",
    "    plt.subplot(1, 2, i + 1)\n",
    "    plt.imshow(f_img, cmap=\"gray\")\n",
    "    plt.axis(\"off\")\n",
    "\n",
    "plt.show()"
   ]
  },
  {
   "cell_type": "markdown",
   "id": "23b837b1-792f-4fe8-8419-7ad445c28828",
   "metadata": {},
   "source": [
    "### Max Pooling"
   ]
  },
  {
   "cell_type": "code",
   "execution_count": 17,
   "id": "37f67600-c24d-4725-a0f7-92d896a9827b",
   "metadata": {},
   "outputs": [
    {
     "name": "stderr",
     "output_type": "stream",
     "text": [
      "100%|█████████████████████████████████████████████████████████████████████████████████| 12/12 [00:00<00:00, 746.86it/s]\n",
      "100%|█████████████████████████████████████████████████████████████████████████████████| 12/12 [00:00<00:00, 855.98it/s]\n"
     ]
    },
    {
     "data": {
      "image/png": "[encoded data removed]",
      "text/plain": [
       "<Figure size 640x480 with 2 Axes>"
      ]
     },
     "metadata": {},
     "output_type": "display_data"
    }
   ],
   "source": [
    "pool_size_1 = 2\n",
    "stride_1 = 2\n",
    "\n",
    "max_pooled_results_1 = np.array([maxpooling_2d(f_img, pool_size_1, stride_1) for f_img in act_results_1])\n",
    "\n",
    "for i, f_img in enumerate(max_pooled_results_1):\n",
    "    plt.subplot(1, 2, i + 1)\n",
    "    plt.imshow(f_img, cmap=\"gray\")\n",
    "    plt.axis(\"off\")\n",
    "\n",
    "plt.show()"
   ]
  },
  {
   "cell_type": "code",
   "execution_count": 18,
   "id": "a099a7e7-689b-4034-a415-4cef04ee9429",
   "metadata": {},
   "outputs": [
    {
     "data": {
      "text/plain": [
       "(2, 12, 12)"
      ]
     },
     "execution_count": 18,
     "metadata": {},
     "output_type": "execute_result"
    }
   ],
   "source": [
    "max_pooled_results_1.shape"
   ]
  },
  {
   "cell_type": "markdown",
   "id": "4e8e8648-4ef8-4084-a28a-cbff8d4b2efc",
   "metadata": {},
   "source": [
    "---\n",
    "## Layer 2"
   ]
  },
  {
   "cell_type": "code",
   "execution_count": 32,
   "id": "3f55bc85-4675-4adf-bb11-886d12470293",
   "metadata": {},
   "outputs": [
    {
     "data": {
      "text/plain": [
       "(4, 2, 3, 3)"
      ]
     },
     "execution_count": 32,
     "metadata": {},
     "output_type": "execute_result"
    }
   ],
   "source": [
    "n_of_kernels = 4\n",
    "k_size_2 = 3\n",
    "prev_output_len = len(max_pooled_results_1)\n",
    "\n",
    "kernels_2 = np.random.randn(n_of_kernels, prev_output_len, k_size_2, k_size_2)\n",
    "biases_2 = np.random.randn(4)\n",
    "\n",
    "# predefined kernels\n",
    "# kernels_2 = np.repeat(kernels_1[np.newaxis, ...], 4, axis=0)\n",
    "\n",
    "kernels_2.shape"
   ]
  },
  {
   "cell_type": "markdown",
   "id": "62307a37-b818-4913-93c9-1dbd5e4ee353",
   "metadata": {},
   "source": [
    "### Convolution"
   ]
  },
  {
   "cell_type": "code",
   "execution_count": 33,
   "id": "33d019b5-c5f4-4499-8133-218cb191860c",
   "metadata": {},
   "outputs": [],
   "source": [
    "filtered_images_2 = []\n",
    "\n",
    "for ks, b in zip(kernels_2, biases_2):\n",
    "    r = []\n",
    "    for k, layer in zip(ks, max_pooled_results_1):\n",
    "        r.append(conv_2d(layer, k))\n",
    "    filtered_images_2.append(np.sum(r, axis=0) + b)\n",
    "\n",
    "filtered_images_2 = np.array(filtered_images_2)"
   ]
  },
  {
   "cell_type": "code",
   "execution_count": 34,
   "id": "012a77d2-0bea-458a-9de2-09bae3975504",
   "metadata": {},
   "outputs": [
    {
     "data": {
      "text/plain": [
       "(4, 10, 10)"
      ]
     },
     "execution_count": 34,
     "metadata": {},
     "output_type": "execute_result"
    }
   ],
   "source": [
    "filtered_images_2.shape"
   ]
  },
  {
   "cell_type": "code",
   "execution_count": 35,
   "id": "910f13c0-93fc-4119-b58a-372e971c0fd6",
   "metadata": {},
   "outputs": [
    {
     "data": {
      "image/png": "[encoded data removed]",
      "text/plain": [
       "<Figure size 640x480 with 4 Axes>"
      ]
     },
     "metadata": {},
     "output_type": "display_data"
    }
   ],
   "source": [
    "for i, f_image in enumerate(filtered_images_2):\n",
    "    plt.subplot(2, 2, i + 1)\n",
    "    plt.imshow(f_image, cmap=\"gray\")\n",
    "plt.show()"
   ]
  },
  {
   "cell_type": "markdown",
   "id": "9d19726a-8b15-4e5f-93fa-77085fac96b9",
   "metadata": {},
   "source": [
    "### Activation: Sigmoid"
   ]
  },
  {
   "cell_type": "code",
   "execution_count": 36,
   "id": "8d5d6c0b-b97a-41d0-b0d3-66b541eda008",
   "metadata": {},
   "outputs": [
    {
     "name": "stderr",
     "output_type": "stream",
     "text": [
      "C:\\Users\\imsub\\AppData\\Local\\Temp\\ipykernel_11108\\3171295861.py:6: RuntimeWarning: overflow encountered in exp\n",
      "  return 1 / (1 + np.exp(-x))\n"
     ]
    },
    {
     "data": {
      "image/png": "[encoded data removed]",
      "text/plain": [
       "<Figure size 640x480 with 4 Axes>"
      ]
     },
     "metadata": {},
     "output_type": "display_data"
    }
   ],
   "source": [
    "act_results_2 = np.array([activation(f_img, \"sigmoid\") for f_img in filtered_images_2])\n",
    "\n",
    "for i, f_image in enumerate(act_results_2):\n",
    "    plt.subplot(2, 2, i + 1)\n",
    "    plt.imshow(f_image, cmap=\"gray\")\n",
    "    \n",
    "plt.show()"
   ]
  },
  {
   "cell_type": "markdown",
   "id": "fd6626bc-35dd-4a9d-b5f3-7ae2a09d934b",
   "metadata": {},
   "source": [
    "### Max Pooling"
   ]
  },
  {
   "cell_type": "code",
   "execution_count": 37,
   "id": "ab845385-fb40-4848-a47d-a71cb1d57331",
   "metadata": {},
   "outputs": [
    {
     "name": "stderr",
     "output_type": "stream",
     "text": [
      "100%|██████████████████████████████████████████████████████████████████████████████████| 5/5 [00:00<00:00, 2491.57it/s]\n",
      "100%|██████████████████████████████████████████████████████████████████████████████████| 5/5 [00:00<00:00, 1679.47it/s]\n",
      "100%|██████████████████████████████████████████████████████████████████████████████████| 5/5 [00:00<00:00, 1662.69it/s]\n",
      "100%|██████████████████████████████████████████████████████████████████████████████████| 5/5 [00:00<00:00, 1668.91it/s]\n"
     ]
    },
    {
     "data": {
      "image/png": "[encoded data removed]",
      "text/plain": [
       "<Figure size 640x480 with 4 Axes>"
      ]
     },
     "metadata": {},
     "output_type": "display_data"
    }
   ],
   "source": [
    "pool_size_2 = 2\n",
    "stride_2 = 2\n",
    "\n",
    "max_pooled_results_2 = np.array([maxpooling_2d(f_image, pool_size_2, stride_2) for f_image in act_results_2])\n",
    "\n",
    "for i, f_image in enumerate(max_pooled_results_2):\n",
    "    plt.subplot(2, 2, i + 1)\n",
    "    plt.imshow(f_image, cmap=\"gray\")\n",
    "plt.show()"
   ]
  },
  {
   "cell_type": "code",
   "execution_count": 38,
   "id": "ce0f56cc-45dc-44d0-b606-7b1df37a8040",
   "metadata": {},
   "outputs": [
    {
     "data": {
      "text/plain": [
       "(4, 5, 5)"
      ]
     },
     "execution_count": 38,
     "metadata": {},
     "output_type": "execute_result"
    }
   ],
   "source": [
    "max_pooled_results_2.shape"
   ]
  },
  {
   "cell_type": "code",
   "execution_count": 39,
   "id": "3922b006-6916-4935-bd1d-868e5b8db70f",
   "metadata": {},
   "outputs": [
    {
     "data": {
      "text/plain": [
       "(100,)"
      ]
     },
     "execution_count": 39,
     "metadata": {},
     "output_type": "execute_result"
    }
   ],
   "source": [
    "output = max_pooled_results_2.flatten()\n",
    "\n",
    "l = len(output)\n",
    "output.shape"
   ]
  },
  {
   "cell_type": "code",
   "execution_count": 27,
   "id": "721c79ce-e32a-4f39-81f9-e503a910c186",
   "metadata": {},
   "outputs": [
    {
     "data": {
      "image/png": "[encoded data removed]",
      "text/plain": [
       "<Figure size 640x480 with 1 Axes>"
      ]
     },
     "metadata": {},
     "output_type": "display_data"
    }
   ],
   "source": [
    "plt.imshow(output.reshape(5, 10), cmap=\"gray\")\n",
    "plt.axis(\"off\")\n",
    "plt.show()"
   ]
  },
  {
   "cell_type": "code",
   "execution_count": 40,
   "id": "272cb80a-397b-4edd-b9d5-518792967be8",
   "metadata": {},
   "outputs": [
    {
     "data": {
      "image/png": "[encoded data removed]",
      "text/plain": [
       "<Figure size 1400x1000 with 1 Axes>"
      ]
     },
     "metadata": {},
     "output_type": "display_data"
    }
   ],
   "source": [
    "plt.figure(figsize=(14, 10))\n",
    "plt.imshow(output.reshape(1, l), cmap=\"gray\")\n",
    "plt.axis(\"off\")\n",
    "plt.show()"
   ]
  },
  {
   "cell_type": "markdown",
   "id": "4f6677bc-fce9-414e-bc24-2aeab0151823",
   "metadata": {},
   "source": [
    "---\n",
    "## This layer will be fed into the fully connected layers to learn the neural network"
   ]
  },
  {
   "cell_type": "code",
   "execution_count": null,
   "id": "027819ad-e07b-45c2-bad5-76262797e8aa",
   "metadata": {},
   "outputs": [],
   "source": []
  }
 ],
 "metadata": {
  "kernelspec": {
   "display_name": "Python 3 (ipykernel)",
   "language": "python",
   "name": "python3"
  },
  "language_info": {
   "codemirror_mode": {
    "name": "ipython",
    "version": 3
   },
   "file_extension": ".py",
   "mimetype": "text/x-python",
   "name": "python",
   "nbconvert_exporter": "python",
   "pygments_lexer": "ipython3",
   "version": "3.10.8"
  }
 },
 "nbformat": 4,
 "nbformat_minor": 5
}
