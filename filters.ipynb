{
 "cells": [
  {
   "cell_type": "code",
   "execution_count": 1,
   "id": "d7f9b8ff-e7b5-4e91-a1fe-932eb86f465c",
   "metadata": {},
   "outputs": [],
   "source": [
    "import numpy as np\n",
    "from numpy import ndarray\n",
    "import pandas as pd\n",
    "import matplotlib.pyplot as plt\n",
    "from tqdm import tqdm"
   ]
  },
  {
   "cell_type": "code",
   "execution_count": 2,
   "id": "41477995-ee0f-4a60-bbe4-de7061b1a641",
   "metadata": {},
   "outputs": [
    {
     "data": {
      "text/html": [
       "<div>\n",
       "<style scoped>\n",
       "    .dataframe tbody tr th:only-of-type {\n",
       "        vertical-align: middle;\n",
       "    }\n",
       "\n",
       "    .dataframe tbody tr th {\n",
       "        vertical-align: top;\n",
       "    }\n",
       "\n",
       "    .dataframe thead th {\n",
       "        text-align: right;\n",
       "    }\n",
       "</style>\n",
       "<table border=\"1\" class=\"dataframe\">\n",
       "  <thead>\n",
       "    <tr style=\"text-align: right;\">\n",
       "      <th></th>\n",
       "      <th>0</th>\n",
       "      <th>1</th>\n",
       "      <th>2</th>\n",
       "      <th>3</th>\n",
       "      <th>4</th>\n",
       "      <th>5</th>\n",
       "      <th>6</th>\n",
       "      <th>7</th>\n",
       "      <th>8</th>\n",
       "      <th>9</th>\n",
       "      <th>...</th>\n",
       "      <th>775</th>\n",
       "      <th>776</th>\n",
       "      <th>777</th>\n",
       "      <th>778</th>\n",
       "      <th>779</th>\n",
       "      <th>780</th>\n",
       "      <th>781</th>\n",
       "      <th>782</th>\n",
       "      <th>783</th>\n",
       "      <th>784</th>\n",
       "    </tr>\n",
       "  </thead>\n",
       "  <tbody>\n",
       "    <tr>\n",
       "      <th>0</th>\n",
       "      <td>0.0</td>\n",
       "      <td>0.0</td>\n",
       "      <td>0.0</td>\n",
       "      <td>0.0</td>\n",
       "      <td>0.0</td>\n",
       "      <td>0.0</td>\n",
       "      <td>0.0</td>\n",
       "      <td>0.0</td>\n",
       "      <td>0.0</td>\n",
       "      <td>0.0</td>\n",
       "      <td>...</td>\n",
       "      <td>0.0</td>\n",
       "      <td>0.0</td>\n",
       "      <td>0.0</td>\n",
       "      <td>0.0</td>\n",
       "      <td>0.0</td>\n",
       "      <td>0.0</td>\n",
       "      <td>0.0</td>\n",
       "      <td>0.0</td>\n",
       "      <td>0.0</td>\n",
       "      <td>7.0</td>\n",
       "    </tr>\n",
       "    <tr>\n",
       "      <th>1</th>\n",
       "      <td>0.0</td>\n",
       "      <td>0.0</td>\n",
       "      <td>0.0</td>\n",
       "      <td>0.0</td>\n",
       "      <td>0.0</td>\n",
       "      <td>0.0</td>\n",
       "      <td>0.0</td>\n",
       "      <td>0.0</td>\n",
       "      <td>0.0</td>\n",
       "      <td>0.0</td>\n",
       "      <td>...</td>\n",
       "      <td>0.0</td>\n",
       "      <td>0.0</td>\n",
       "      <td>0.0</td>\n",
       "      <td>0.0</td>\n",
       "      <td>0.0</td>\n",
       "      <td>0.0</td>\n",
       "      <td>0.0</td>\n",
       "      <td>0.0</td>\n",
       "      <td>0.0</td>\n",
       "      <td>2.0</td>\n",
       "    </tr>\n",
       "    <tr>\n",
       "      <th>2</th>\n",
       "      <td>0.0</td>\n",
       "      <td>0.0</td>\n",
       "      <td>0.0</td>\n",
       "      <td>0.0</td>\n",
       "      <td>0.0</td>\n",
       "      <td>0.0</td>\n",
       "      <td>0.0</td>\n",
       "      <td>0.0</td>\n",
       "      <td>0.0</td>\n",
       "      <td>0.0</td>\n",
       "      <td>...</td>\n",
       "      <td>0.0</td>\n",
       "      <td>0.0</td>\n",
       "      <td>0.0</td>\n",
       "      <td>0.0</td>\n",
       "      <td>0.0</td>\n",
       "      <td>0.0</td>\n",
       "      <td>0.0</td>\n",
       "      <td>0.0</td>\n",
       "      <td>0.0</td>\n",
       "      <td>1.0</td>\n",
       "    </tr>\n",
       "    <tr>\n",
       "      <th>3</th>\n",
       "      <td>0.0</td>\n",
       "      <td>0.0</td>\n",
       "      <td>0.0</td>\n",
       "      <td>0.0</td>\n",
       "      <td>0.0</td>\n",
       "      <td>0.0</td>\n",
       "      <td>0.0</td>\n",
       "      <td>0.0</td>\n",
       "      <td>0.0</td>\n",
       "      <td>0.0</td>\n",
       "      <td>...</td>\n",
       "      <td>0.0</td>\n",
       "      <td>0.0</td>\n",
       "      <td>0.0</td>\n",
       "      <td>0.0</td>\n",
       "      <td>0.0</td>\n",
       "      <td>0.0</td>\n",
       "      <td>0.0</td>\n",
       "      <td>0.0</td>\n",
       "      <td>0.0</td>\n",
       "      <td>0.0</td>\n",
       "    </tr>\n",
       "    <tr>\n",
       "      <th>4</th>\n",
       "      <td>0.0</td>\n",
       "      <td>0.0</td>\n",
       "      <td>0.0</td>\n",
       "      <td>0.0</td>\n",
       "      <td>0.0</td>\n",
       "      <td>0.0</td>\n",
       "      <td>0.0</td>\n",
       "      <td>0.0</td>\n",
       "      <td>0.0</td>\n",
       "      <td>0.0</td>\n",
       "      <td>...</td>\n",
       "      <td>0.0</td>\n",
       "      <td>0.0</td>\n",
       "      <td>0.0</td>\n",
       "      <td>0.0</td>\n",
       "      <td>0.0</td>\n",
       "      <td>0.0</td>\n",
       "      <td>0.0</td>\n",
       "      <td>0.0</td>\n",
       "      <td>0.0</td>\n",
       "      <td>4.0</td>\n",
       "    </tr>\n",
       "  </tbody>\n",
       "</table>\n",
       "<p>5 rows × 785 columns</p>\n",
       "</div>"
      ],
      "text/plain": [
       "   0    1    2    3    4    5    6    7    8    9    ...  775  776  777  778  \\\n",
       "0  0.0  0.0  0.0  0.0  0.0  0.0  0.0  0.0  0.0  0.0  ...  0.0  0.0  0.0  0.0   \n",
       "1  0.0  0.0  0.0  0.0  0.0  0.0  0.0  0.0  0.0  0.0  ...  0.0  0.0  0.0  0.0   \n",
       "2  0.0  0.0  0.0  0.0  0.0  0.0  0.0  0.0  0.0  0.0  ...  0.0  0.0  0.0  0.0   \n",
       "3  0.0  0.0  0.0  0.0  0.0  0.0  0.0  0.0  0.0  0.0  ...  0.0  0.0  0.0  0.0   \n",
       "4  0.0  0.0  0.0  0.0  0.0  0.0  0.0  0.0  0.0  0.0  ...  0.0  0.0  0.0  0.0   \n",
       "\n",
       "   779  780  781  782  783  784  \n",
       "0  0.0  0.0  0.0  0.0  0.0  7.0  \n",
       "1  0.0  0.0  0.0  0.0  0.0  2.0  \n",
       "2  0.0  0.0  0.0  0.0  0.0  1.0  \n",
       "3  0.0  0.0  0.0  0.0  0.0  0.0  \n",
       "4  0.0  0.0  0.0  0.0  0.0  4.0  \n",
       "\n",
       "[5 rows x 785 columns]"
      ]
     },
     "execution_count": 2,
     "metadata": {},
     "output_type": "execute_result"
    }
   ],
   "source": [
    "df = pd.read_csv(\"mnist.csv\", header=None)\n",
    "df.head()"
   ]
  },
  {
   "cell_type": "code",
   "execution_count": 3,
   "id": "11db80bf-74f2-46f4-8365-d4baea8e49c5",
   "metadata": {},
   "outputs": [],
   "source": [
    "X = df.drop(columns = [784])\n",
    "y = df[784]"
   ]
  },
  {
   "cell_type": "code",
   "execution_count": 4,
   "id": "ed85074c-ca59-410c-aff6-e04749f31777",
   "metadata": {},
   "outputs": [
    {
     "data": {
      "text/plain": [
       "((10000, 784), 10000)"
      ]
     },
     "execution_count": 4,
     "metadata": {},
     "output_type": "execute_result"
    }
   ],
   "source": [
    "X.shape, len(X)"
   ]
  },
  {
   "cell_type": "code",
   "execution_count": 89,
   "id": "96f7cc8d-718e-4b7c-b173-4eb8876a0c77",
   "metadata": {},
   "outputs": [],
   "source": [
    "# def read_image(image_path):\n",
    "#     with open(image_path) as f_obj:\n",
    "#         data = f_obj.readlines()\n",
    "\n",
    "#     metadata = list(map(lambda x: x.strip(), data[:4]))\n",
    "#     img_data = list(map(lambda x: int(x.strip()), data[4:]))\n",
    "    \n",
    "#     img_width, img_height = map(int, metadata[2].split(\" \"))\n",
    "    \n",
    "#     return np.array(img_data).reshape((img_height, img_width))\n",
    "\n",
    "# img_arr = read_image(\"alan.pgm\")"
   ]
  },
  {
   "cell_type": "code",
   "execution_count": 5,
   "id": "c1e1df2c-8313-48c8-89e2-67870dc046ab",
   "metadata": {},
   "outputs": [],
   "source": [
    "img_arr = X.iloc[np.random.randint(len(X))].values\n",
    "img_arr = img_arr.reshape((28, 28))"
   ]
  },
  {
   "cell_type": "code",
   "execution_count": 6,
   "id": "d17cc638-4824-4105-9e7d-32fddc2f9d67",
   "metadata": {},
   "outputs": [
    {
     "data": {
      "text/plain": [
       "(28, 28)"
      ]
     },
     "execution_count": 6,
     "metadata": {},
     "output_type": "execute_result"
    }
   ],
   "source": [
    "img_arr.shape"
   ]
  },
  {
   "cell_type": "code",
   "execution_count": 7,
   "id": "9f05ceae-f1b0-446a-9347-f420fef420b6",
   "metadata": {},
   "outputs": [
    {
     "data": {
      "image/png": "[encoded data removed]",
      "text/plain": [
       "<Figure size 640x480 with 1 Axes>"
      ]
     },
     "metadata": {},
     "output_type": "display_data"
    }
   ],
   "source": [
    "plt.imshow(img_arr, cmap=\"gray\")\n",
    "plt.axis(\"off\")\n",
    "plt.show()"
   ]
  },
  {
   "cell_type": "code",
   "execution_count": 8,
   "id": "4538603b-2110-466c-87bd-4e9bfa78c206",
   "metadata": {},
   "outputs": [],
   "source": [
    "def pad_2d(image_arr: ndarray, kernel_size):\n",
    "    N, M = image_arr.shape\n",
    "    m, n = kernel_size\n",
    "    \n",
    "    n_rows = int((m - 1) / 2)\n",
    "    n_cols = int((n - 1) / 2)\n",
    "    \n",
    "    # add top and bottom padding\n",
    "    top_bottom_zeros = np.zeros((n_rows, M))\n",
    "    image_arr = np.vstack([top_bottom_zeros, image_arr, top_bottom_zeros])\n",
    "    \n",
    "    # add left and right padding\n",
    "    left_bottom_zeros = np.zeros((N + n_rows * 2, n_cols)) # (m - 1) rows need to be added\n",
    "    image_arr = np.hstack([left_bottom_zeros, image_arr, left_bottom_zeros])\n",
    "    \n",
    "    image_arr = image_arr.astype('uint64')\n",
    "    \n",
    "    return image_arr"
   ]
  },
  {
   "cell_type": "code",
   "execution_count": 9,
   "id": "a0ac7314-ded3-45e0-b2f1-f0aac84acb28",
   "metadata": {},
   "outputs": [],
   "source": [
    "def inner_product(a: ndarray, b: ndarray):\n",
    "    return np.sum(a * b)"
   ]
  },
  {
   "cell_type": "code",
   "execution_count": 10,
   "id": "ec52f704-e108-4004-b455-0309e84e5407",
   "metadata": {},
   "outputs": [],
   "source": [
    "def conv_2d(inp: ndarray, kernel: ndarray) -> ndarray:\n",
    "    \n",
    "    # pad the image\n",
    "    inp_pad = pad_2d(inp, kernel.shape)\n",
    "    \n",
    "    # initialize the output\n",
    "    out = np.zeros_like(inp)\n",
    "    \n",
    "    # flip the kernel horizontally and vertically\n",
    "    kernel = np.flipud(np.fliplr(kernel))\n",
    "    \n",
    "    # convolution process\n",
    "    for i in tqdm(range(inp_pad.shape[0] - kernel.shape[0] + 1)):\n",
    "        for j in range(inp_pad.shape[1] - kernel.shape[1] + 1):\n",
    "            sub_arr = inp_pad[i:i + kernel.shape[0], j:j + kernel.shape[1]]\n",
    "            out[i, j] = inner_product(sub_arr, kernel)\n",
    "    \n",
    "    return out"
   ]
  },
  {
   "cell_type": "code",
   "execution_count": 11,
   "id": "391e4049-f00f-48e5-b68f-a507f1c90d57",
   "metadata": {},
   "outputs": [],
   "source": [
    "def show_image(inp: ndarray):\n",
    "    plt.imshow(inp, cmap=\"gray\")\n",
    "    plt.axis(\"off\")\n",
    "    plt.show()"
   ]
  },
  {
   "cell_type": "markdown",
   "id": "c163ee10-b715-463b-aff3-f1460ffd17e3",
   "metadata": {},
   "source": [
    "--- \n",
    "# Filters"
   ]
  },
  {
   "cell_type": "markdown",
   "id": "c3647a8e-480a-406a-b43b-d3fa2bc048bb",
   "metadata": {},
   "source": [
    "## 1. Laplacian"
   ]
  },
  {
   "cell_type": "code",
   "execution_count": 42,
   "id": "264d0292-be09-456f-b772-e9301525c9a1",
   "metadata": {},
   "outputs": [
    {
     "name": "stderr",
     "output_type": "stream",
     "text": [
      "100%|█████████████████████████████████████████████████████████████████████████████████| 28/28 [00:00<00:00, 518.31it/s]\n"
     ]
    },
    {
     "data": {
      "image/png": "[encoded data removed]",
      "text/plain": [
       "<Figure size 640x480 with 1 Axes>"
      ]
     },
     "metadata": {},
     "output_type": "display_data"
    }
   ],
   "source": [
    "laplacian_kernel = np.array([[0, 1, 0],\n",
    "                             [1, -4, 1],\n",
    "                             [0, 1, 0]])\n",
    "\n",
    "filtered_image = conv_2d(img_arr, laplacian_kernel)\n",
    "\n",
    "show_image(filtered_image)"
   ]
  },
  {
   "cell_type": "markdown",
   "id": "f9866b7f-de65-4ce2-9a44-a96d77a29620",
   "metadata": {},
   "source": [
    "## 2. Roberts"
   ]
  },
  {
   "cell_type": "code",
   "execution_count": 30,
   "id": "d5aee8d3-04f3-49b5-9ebe-03f3ad149114",
   "metadata": {},
   "outputs": [],
   "source": [
    "# Roberts\n",
    "robert_x = np.array([\n",
    "    [-1, 0],\n",
    "    [0, 1],\n",
    "])\n",
    "\n",
    "robert_y = np.array([\n",
    "    [0, -1],\n",
    "    [1, 0],\n",
    "])"
   ]
  },
  {
   "cell_type": "code",
   "execution_count": 29,
   "id": "a7dd97e3-b186-4f51-9898-5017cc517433",
   "metadata": {},
   "outputs": [
    {
     "name": "stderr",
     "output_type": "stream",
     "text": [
      "100%|█████████████████████████████████████████████████████████████████████████████████| 27/27 [00:00<00:00, 421.99it/s]\n"
     ]
    },
    {
     "data": {
      "image/png": "[encoded data removed]",
      "text/plain": [
       "<Figure size 640x480 with 1 Axes>"
      ]
     },
     "metadata": {},
     "output_type": "display_data"
    }
   ],
   "source": [
    "g_x = conv_2d(img_arr, robert_x)\n",
    "\n",
    "show_image(g_x)"
   ]
  },
  {
   "cell_type": "code",
   "execution_count": 31,
   "id": "72e76035-5330-4b1a-a619-04ed2c480ead",
   "metadata": {},
   "outputs": [
    {
     "name": "stderr",
     "output_type": "stream",
     "text": [
      "100%|█████████████████████████████████████████████████████████████████████████████████| 27/27 [00:00<00:00, 490.77it/s]\n"
     ]
    },
    {
     "data": {
      "image/png": "[encoded data removed]",
      "text/plain": [
       "<Figure size 640x480 with 1 Axes>"
      ]
     },
     "metadata": {},
     "output_type": "display_data"
    }
   ],
   "source": [
    "g_y = conv_2d(img_arr, robert_y)\n",
    "\n",
    "show_image(g_y)"
   ]
  },
  {
   "cell_type": "code",
   "execution_count": 32,
   "id": "90641049-7470-459b-9a8e-ba03045a7822",
   "metadata": {},
   "outputs": [
    {
     "data": {
      "image/png": "[encoded data removed]",
      "text/plain": [
       "<Figure size 640x480 with 1 Axes>"
      ]
     },
     "metadata": {},
     "output_type": "display_data"
    }
   ],
   "source": [
    "M = np.abs(g_x) + np.abs(g_y)\n",
    "\n",
    "show_image(M)"
   ]
  },
  {
   "cell_type": "markdown",
   "id": "8f4812d2-076a-4fc6-b6de-685289f97e25",
   "metadata": {
    "tags": []
   },
   "source": [
    "## 3. Prewitt"
   ]
  },
  {
   "cell_type": "code",
   "execution_count": 20,
   "id": "c666588f-8389-4236-8899-a3259be61f4d",
   "metadata": {},
   "outputs": [],
   "source": [
    "prewitt_y = np.array([\n",
    "    [-1, -1, -1],\n",
    "    [0, 0, 0],\n",
    "    [1, 1, 1],\n",
    "])\n",
    "\n",
    "prewitt_x = np.array([\n",
    "    [-1, 0, 1],\n",
    "    [-1, 0, 1],\n",
    "    [-1, 0, 1],\n",
    "])"
   ]
  },
  {
   "cell_type": "code",
   "execution_count": 21,
   "id": "261741db-01bd-485d-9e24-c7a8a0242e9c",
   "metadata": {},
   "outputs": [
    {
     "name": "stderr",
     "output_type": "stream",
     "text": [
      "100%|█████████████████████████████████████████████████████████████████████████████████| 28/28 [00:00<00:00, 509.20it/s]\n"
     ]
    },
    {
     "data": {
      "image/png": "[encoded data removed]",
      "text/plain": [
       "<Figure size 640x480 with 1 Axes>"
      ]
     },
     "metadata": {},
     "output_type": "display_data"
    }
   ],
   "source": [
    "g_x = conv_2d(img_arr, prewitt_x)\n",
    "\n",
    "show_image(g_x)"
   ]
  },
  {
   "cell_type": "code",
   "execution_count": 22,
   "id": "4d58f5dd-4a6c-4729-8986-a8f98f5b2ca6",
   "metadata": {},
   "outputs": [
    {
     "name": "stderr",
     "output_type": "stream",
     "text": [
      "100%|█████████████████████████████████████████████████████████████████████████████████| 28/28 [00:00<00:00, 474.69it/s]\n"
     ]
    },
    {
     "data": {
      "image/png": "[encoded data removed]",
      "text/plain": [
       "<Figure size 640x480 with 1 Axes>"
      ]
     },
     "metadata": {},
     "output_type": "display_data"
    }
   ],
   "source": [
    "g_y = conv_2d(img_arr, prewitt_y)\n",
    "\n",
    "show_image(g_y)"
   ]
  },
  {
   "cell_type": "code",
   "execution_count": 23,
   "id": "4127dc0b-8f56-4ecc-89ba-20353b22ee8a",
   "metadata": {},
   "outputs": [
    {
     "data": {
      "image/png": "[encoded data removed]",
      "text/plain": [
       "<Figure size 640x480 with 1 Axes>"
      ]
     },
     "metadata": {},
     "output_type": "display_data"
    }
   ],
   "source": [
    "M = np.abs(g_x) + np.abs(g_y)\n",
    "\n",
    "show_image(M)"
   ]
  },
  {
   "cell_type": "markdown",
   "id": "9a23ce03-f2ab-43fc-b6c1-97c0f4fec03c",
   "metadata": {},
   "source": [
    "## 4. Sobel"
   ]
  },
  {
   "cell_type": "code",
   "execution_count": 24,
   "id": "1ccf7ad2-85dc-4a44-84d4-b8c754feb13e",
   "metadata": {},
   "outputs": [],
   "source": [
    "sobel_y = np.array([\n",
    "    [-1, -2, -1],\n",
    "    [0, 0, 0],\n",
    "    [1, 2, 1],\n",
    "])\n",
    "\n",
    "sobel_x = np.array([\n",
    "    [-1, 0, 1],\n",
    "    [-2, 0, 2],\n",
    "    [-1, 0, 1],\n",
    "])"
   ]
  },
  {
   "cell_type": "code",
   "execution_count": 25,
   "id": "46696074-c5f6-44e2-bc5a-79f8591ffa95",
   "metadata": {},
   "outputs": [
    {
     "name": "stderr",
     "output_type": "stream",
     "text": [
      "100%|█████████████████████████████████████████████████████████████████████████████████| 28/28 [00:00<00:00, 482.96it/s]\n"
     ]
    },
    {
     "data": {
      "image/png": "[encoded data removed]",
      "text/plain": [
       "<Figure size 640x480 with 1 Axes>"
      ]
     },
     "metadata": {},
     "output_type": "display_data"
    }
   ],
   "source": [
    "g_x = conv_2d(img_arr, sobel_x)\n",
    "\n",
    "show_image(g_x)"
   ]
  },
  {
   "cell_type": "code",
   "execution_count": 26,
   "id": "80071cd6-d4f9-46b5-8040-9d02d8bf5dc4",
   "metadata": {},
   "outputs": [
    {
     "name": "stderr",
     "output_type": "stream",
     "text": [
      "100%|█████████████████████████████████████████████████████████████████████████████████| 28/28 [00:00<00:00, 491.49it/s]\n"
     ]
    },
    {
     "data": {
      "image/png": "[encoded data removed]",
      "text/plain": [
       "<Figure size 640x480 with 1 Axes>"
      ]
     },
     "metadata": {},
     "output_type": "display_data"
    }
   ],
   "source": [
    "g_y = conv_2d(img_arr, sobel_y)\n",
    "\n",
    "show_image(g_y)"
   ]
  },
  {
   "cell_type": "code",
   "execution_count": 27,
   "id": "7ddd7c9b-2001-4d9c-ae5c-a8960e3fe42c",
   "metadata": {},
   "outputs": [
    {
     "data": {
      "image/png": "[encoded data removed]",
      "text/plain": [
       "<Figure size 640x480 with 1 Axes>"
      ]
     },
     "metadata": {},
     "output_type": "display_data"
    }
   ],
   "source": [
    "M = np.abs(g_x) + np.abs(g_y)\n",
    "\n",
    "show_image(M)"
   ]
  },
  {
   "cell_type": "markdown",
   "id": "55c5e25e-ec4f-4d77-b3bf-614a91ba7c4a",
   "metadata": {},
   "source": [
    "## 5. The Marr-Hildreth Edge Detector"
   ]
  },
  {
   "cell_type": "code",
   "execution_count": 37,
   "id": "741dabb2-792b-45fe-ba7f-24f45177d700",
   "metadata": {},
   "outputs": [],
   "source": [
    "# 3 x 3\n",
    "marr_hildreth_kernel = np.array([\n",
    "    [0, -1, 0],\n",
    "    [-1, 4, -1],\n",
    "    [0, -1, 0],\n",
    "])"
   ]
  },
  {
   "cell_type": "code",
   "execution_count": 36,
   "id": "02db6f8a-68c9-49bd-aa61-68bde2d215ce",
   "metadata": {},
   "outputs": [
    {
     "name": "stderr",
     "output_type": "stream",
     "text": [
      "100%|█████████████████████████████████████████████████████████████████████████████████| 28/28 [00:00<00:00, 528.35it/s]\n"
     ]
    },
    {
     "data": {
      "image/png": "[encoded data removed]",
      "text/plain": [
       "<Figure size 640x480 with 1 Axes>"
      ]
     },
     "metadata": {},
     "output_type": "display_data"
    }
   ],
   "source": [
    "filtered_image = conv_2d(img_arr, marr_hildreth_kernel)\n",
    "\n",
    "show_image(filtered_image)"
   ]
  },
  {
   "cell_type": "code",
   "execution_count": 38,
   "id": "68e4e528-7681-4f58-a65a-2cb87a3e4f44",
   "metadata": {},
   "outputs": [],
   "source": [
    "# 5 x 5\n",
    "marr_hildreth_kernel = np.array([\n",
    "    [0,   0, -1,  0,  0],\n",
    "    [0,  -1, -2, -1,  0],\n",
    "    [-1, -2, 16, -2, -1],\n",
    "    [0,  -1, -2, -1,  0],\n",
    "    [0,   0, -1,  0,  0],\n",
    "])"
   ]
  },
  {
   "cell_type": "code",
   "execution_count": 39,
   "id": "d2906c59-45ec-49e8-b205-9bff1ba3c4a7",
   "metadata": {},
   "outputs": [
    {
     "name": "stderr",
     "output_type": "stream",
     "text": [
      "100%|█████████████████████████████████████████████████████████████████████████████████| 28/28 [00:00<00:00, 509.00it/s]\n"
     ]
    },
    {
     "data": {
      "image/png": "[encoded data removed]",
      "text/plain": [
       "<Figure size 640x480 with 1 Axes>"
      ]
     },
     "metadata": {},
     "output_type": "display_data"
    }
   ],
   "source": [
    "filtered_image = conv_2d(img_arr, marr_hildreth_kernel)\n",
    "\n",
    "show_image(filtered_image)"
   ]
  },
  {
   "cell_type": "markdown",
   "id": "71cc80d8-5df0-40f7-bbd0-76d04b90f991",
   "metadata": {},
   "source": [
    "## Randomized Kernel"
   ]
  },
  {
   "cell_type": "code",
   "execution_count": 47,
   "id": "ac960292-ad08-43d9-97c6-60292015e9ef",
   "metadata": {},
   "outputs": [
    {
     "data": {
      "text/plain": [
       "array([[ 0.57718252, -0.49576442,  1.45147379],\n",
       "       [-0.29089503,  1.05354497, -1.83190598],\n",
       "       [-1.86616441,  0.02730814, -2.05816506]])"
      ]
     },
     "execution_count": 47,
     "metadata": {},
     "output_type": "execute_result"
    }
   ],
   "source": [
    "kernel_size = 3\n",
    "random_kernel = np.random.randn(kernel_size, kernel_size)\n",
    "random_kernel"
   ]
  },
  {
   "cell_type": "code",
   "execution_count": 51,
   "id": "778e7e69-db86-4905-9e90-5b50d932afb3",
   "metadata": {},
   "outputs": [
    {
     "name": "stderr",
     "output_type": "stream",
     "text": [
      "100%|█████████████████████████████████████████████████████████████████████████████████| 28/28 [00:00<00:00, 528.28it/s]\n"
     ]
    },
    {
     "data": {
      "image/png": "[encoded data removed]",
      "text/plain": [
       "<Figure size 640x480 with 1 Axes>"
      ]
     },
     "metadata": {},
     "output_type": "display_data"
    }
   ],
   "source": [
    "filtered_image = conv_2d(img_arr, random_kernel)\n",
    "filtered_image = np.abs(filtered_image)\n",
    "\n",
    "show_image(filtered_image)"
   ]
  },
  {
   "cell_type": "code",
   "execution_count": null,
   "id": "9cb88787-f4e5-4bbb-a688-a5fba7c77b49",
   "metadata": {},
   "outputs": [],
   "source": []
  }
 ],
 "metadata": {
  "kernelspec": {
   "display_name": "Python 3 (ipykernel)",
   "language": "python",
   "name": "python3"
  },
  "language_info": {
   "codemirror_mode": {
    "name": "ipython",
    "version": 3
   },
   "file_extension": ".py",
   "mimetype": "text/x-python",
   "name": "python",
   "nbconvert_exporter": "python",
   "pygments_lexer": "ipython3",
   "version": "3.10.8"
  }
 },
 "nbformat": 4,
 "nbformat_minor": 5
}
