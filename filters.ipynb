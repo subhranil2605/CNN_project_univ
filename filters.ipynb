{
 "cells": [
  {
   "cell_type": "code",
   "execution_count": 24,
   "id": "d7f9b8ff-e7b5-4e91-a1fe-932eb86f465c",
   "metadata": {},
   "outputs": [],
   "source": [
    "import numpy as np\n",
    "from numpy import ndarray\n",
    "import pandas as pd\n",
    "import matplotlib.pyplot as plt\n",
    "from tqdm import tqdm"
   ]
  },
  {
   "cell_type": "code",
   "execution_count": 35,
   "id": "41477995-ee0f-4a60-bbe4-de7061b1a641",
   "metadata": {},
   "outputs": [
    {
     "data": {
      "text/html": [
       "<div>\n",
       "<style scoped>\n",
       "    .dataframe tbody tr th:only-of-type {\n",
       "        vertical-align: middle;\n",
       "    }\n",
       "\n",
       "    .dataframe tbody tr th {\n",
       "        vertical-align: top;\n",
       "    }\n",
       "\n",
       "    .dataframe thead th {\n",
       "        text-align: right;\n",
       "    }\n",
       "</style>\n",
       "<table border=\"1\" class=\"dataframe\">\n",
       "  <thead>\n",
       "    <tr style=\"text-align: right;\">\n",
       "      <th></th>\n",
       "      <th>0</th>\n",
       "      <th>1</th>\n",
       "      <th>2</th>\n",
       "      <th>3</th>\n",
       "      <th>4</th>\n",
       "      <th>5</th>\n",
       "      <th>6</th>\n",
       "      <th>7</th>\n",
       "      <th>8</th>\n",
       "      <th>9</th>\n",
       "      <th>...</th>\n",
       "      <th>775</th>\n",
       "      <th>776</th>\n",
       "      <th>777</th>\n",
       "      <th>778</th>\n",
       "      <th>779</th>\n",
       "      <th>780</th>\n",
       "      <th>781</th>\n",
       "      <th>782</th>\n",
       "      <th>783</th>\n",
       "      <th>784</th>\n",
       "    </tr>\n",
       "  </thead>\n",
       "  <tbody>\n",
       "    <tr>\n",
       "      <th>0</th>\n",
       "      <td>0.0</td>\n",
       "      <td>0.0</td>\n",
       "      <td>0.0</td>\n",
       "      <td>0.0</td>\n",
       "      <td>0.0</td>\n",
       "      <td>0.0</td>\n",
       "      <td>0.0</td>\n",
       "      <td>0.0</td>\n",
       "      <td>0.0</td>\n",
       "      <td>0.0</td>\n",
       "      <td>...</td>\n",
       "      <td>0.0</td>\n",
       "      <td>0.0</td>\n",
       "      <td>0.0</td>\n",
       "      <td>0.0</td>\n",
       "      <td>0.0</td>\n",
       "      <td>0.0</td>\n",
       "      <td>0.0</td>\n",
       "      <td>0.0</td>\n",
       "      <td>0.0</td>\n",
       "      <td>7.0</td>\n",
       "    </tr>\n",
       "    <tr>\n",
       "      <th>1</th>\n",
       "      <td>0.0</td>\n",
       "      <td>0.0</td>\n",
       "      <td>0.0</td>\n",
       "      <td>0.0</td>\n",
       "      <td>0.0</td>\n",
       "      <td>0.0</td>\n",
       "      <td>0.0</td>\n",
       "      <td>0.0</td>\n",
       "      <td>0.0</td>\n",
       "      <td>0.0</td>\n",
       "      <td>...</td>\n",
       "      <td>0.0</td>\n",
       "      <td>0.0</td>\n",
       "      <td>0.0</td>\n",
       "      <td>0.0</td>\n",
       "      <td>0.0</td>\n",
       "      <td>0.0</td>\n",
       "      <td>0.0</td>\n",
       "      <td>0.0</td>\n",
       "      <td>0.0</td>\n",
       "      <td>2.0</td>\n",
       "    </tr>\n",
       "    <tr>\n",
       "      <th>2</th>\n",
       "      <td>0.0</td>\n",
       "      <td>0.0</td>\n",
       "      <td>0.0</td>\n",
       "      <td>0.0</td>\n",
       "      <td>0.0</td>\n",
       "      <td>0.0</td>\n",
       "      <td>0.0</td>\n",
       "      <td>0.0</td>\n",
       "      <td>0.0</td>\n",
       "      <td>0.0</td>\n",
       "      <td>...</td>\n",
       "      <td>0.0</td>\n",
       "      <td>0.0</td>\n",
       "      <td>0.0</td>\n",
       "      <td>0.0</td>\n",
       "      <td>0.0</td>\n",
       "      <td>0.0</td>\n",
       "      <td>0.0</td>\n",
       "      <td>0.0</td>\n",
       "      <td>0.0</td>\n",
       "      <td>1.0</td>\n",
       "    </tr>\n",
       "    <tr>\n",
       "      <th>3</th>\n",
       "      <td>0.0</td>\n",
       "      <td>0.0</td>\n",
       "      <td>0.0</td>\n",
       "      <td>0.0</td>\n",
       "      <td>0.0</td>\n",
       "      <td>0.0</td>\n",
       "      <td>0.0</td>\n",
       "      <td>0.0</td>\n",
       "      <td>0.0</td>\n",
       "      <td>0.0</td>\n",
       "      <td>...</td>\n",
       "      <td>0.0</td>\n",
       "      <td>0.0</td>\n",
       "      <td>0.0</td>\n",
       "      <td>0.0</td>\n",
       "      <td>0.0</td>\n",
       "      <td>0.0</td>\n",
       "      <td>0.0</td>\n",
       "      <td>0.0</td>\n",
       "      <td>0.0</td>\n",
       "      <td>0.0</td>\n",
       "    </tr>\n",
       "    <tr>\n",
       "      <th>4</th>\n",
       "      <td>0.0</td>\n",
       "      <td>0.0</td>\n",
       "      <td>0.0</td>\n",
       "      <td>0.0</td>\n",
       "      <td>0.0</td>\n",
       "      <td>0.0</td>\n",
       "      <td>0.0</td>\n",
       "      <td>0.0</td>\n",
       "      <td>0.0</td>\n",
       "      <td>0.0</td>\n",
       "      <td>...</td>\n",
       "      <td>0.0</td>\n",
       "      <td>0.0</td>\n",
       "      <td>0.0</td>\n",
       "      <td>0.0</td>\n",
       "      <td>0.0</td>\n",
       "      <td>0.0</td>\n",
       "      <td>0.0</td>\n",
       "      <td>0.0</td>\n",
       "      <td>0.0</td>\n",
       "      <td>4.0</td>\n",
       "    </tr>\n",
       "  </tbody>\n",
       "</table>\n",
       "<p>5 rows × 785 columns</p>\n",
       "</div>"
      ],
      "text/plain": [
       "   0    1    2    3    4    5    6    7    8    9    ...  775  776  777  778  \\\n",
       "0  0.0  0.0  0.0  0.0  0.0  0.0  0.0  0.0  0.0  0.0  ...  0.0  0.0  0.0  0.0   \n",
       "1  0.0  0.0  0.0  0.0  0.0  0.0  0.0  0.0  0.0  0.0  ...  0.0  0.0  0.0  0.0   \n",
       "2  0.0  0.0  0.0  0.0  0.0  0.0  0.0  0.0  0.0  0.0  ...  0.0  0.0  0.0  0.0   \n",
       "3  0.0  0.0  0.0  0.0  0.0  0.0  0.0  0.0  0.0  0.0  ...  0.0  0.0  0.0  0.0   \n",
       "4  0.0  0.0  0.0  0.0  0.0  0.0  0.0  0.0  0.0  0.0  ...  0.0  0.0  0.0  0.0   \n",
       "\n",
       "   779  780  781  782  783  784  \n",
       "0  0.0  0.0  0.0  0.0  0.0  7.0  \n",
       "1  0.0  0.0  0.0  0.0  0.0  2.0  \n",
       "2  0.0  0.0  0.0  0.0  0.0  1.0  \n",
       "3  0.0  0.0  0.0  0.0  0.0  0.0  \n",
       "4  0.0  0.0  0.0  0.0  0.0  4.0  \n",
       "\n",
       "[5 rows x 785 columns]"
      ]
     },
     "execution_count": 35,
     "metadata": {},
     "output_type": "execute_result"
    }
   ],
   "source": [
    "df = pd.read_csv(\"mnist.csv\", header=None)\n",
    "df.head()"
   ]
  },
  {
   "cell_type": "code",
   "execution_count": 36,
   "id": "11db80bf-74f2-46f4-8365-d4baea8e49c5",
   "metadata": {},
   "outputs": [],
   "source": [
    "X = df.drop(columns = [784])\n",
    "y = df[784]"
   ]
  },
  {
   "cell_type": "code",
   "execution_count": 98,
   "id": "ed85074c-ca59-410c-aff6-e04749f31777",
   "metadata": {},
   "outputs": [
    {
     "data": {
      "text/plain": [
       "((10000, 784), 10000)"
      ]
     },
     "execution_count": 98,
     "metadata": {},
     "output_type": "execute_result"
    }
   ],
   "source": [
    "X.shape, len(X)"
   ]
  },
  {
   "cell_type": "code",
   "execution_count": 89,
   "id": "96f7cc8d-718e-4b7c-b173-4eb8876a0c77",
   "metadata": {},
   "outputs": [],
   "source": [
    "# def read_image(image_path):\n",
    "#     with open(image_path) as f_obj:\n",
    "#         data = f_obj.readlines()\n",
    "\n",
    "#     metadata = list(map(lambda x: x.strip(), data[:4]))\n",
    "#     img_data = list(map(lambda x: int(x.strip()), data[4:]))\n",
    "    \n",
    "#     img_width, img_height = map(int, metadata[2].split(\" \"))\n",
    "    \n",
    "#     return np.array(img_data).reshape((img_height, img_width))\n",
    "\n",
    "# img_arr = read_image(\"alan.pgm\")"
   ]
  },
  {
   "cell_type": "code",
   "execution_count": 99,
   "id": "c1e1df2c-8313-48c8-89e2-67870dc046ab",
   "metadata": {},
   "outputs": [],
   "source": [
    "img_arr = X.iloc[np.random.randint(len(X))].values\n",
    "img_arr = img_arr.reshape((28, 28))"
   ]
  },
  {
   "cell_type": "code",
   "execution_count": 100,
   "id": "d17cc638-4824-4105-9e7d-32fddc2f9d67",
   "metadata": {},
   "outputs": [
    {
     "data": {
      "text/plain": [
       "(28, 28)"
      ]
     },
     "execution_count": 100,
     "metadata": {},
     "output_type": "execute_result"
    }
   ],
   "source": [
    "img_arr.shape"
   ]
  },
  {
   "cell_type": "code",
   "execution_count": 101,
   "id": "9f05ceae-f1b0-446a-9347-f420fef420b6",
   "metadata": {},
   "outputs": [
    {
     "data": {
      "image/png": "[encoded data removed]",
      "text/plain": [
       "<Figure size 640x480 with 1 Axes>"
      ]
     },
     "metadata": {},
     "output_type": "display_data"
    }
   ],
   "source": [
    "plt.imshow(img_arr, cmap=\"gray\")\n",
    "plt.axis(\"off\")\n",
    "plt.show()"
   ]
  },
  {
   "cell_type": "code",
   "execution_count": 59,
   "id": "4538603b-2110-466c-87bd-4e9bfa78c206",
   "metadata": {},
   "outputs": [],
   "source": [
    "def pad_2d(image_arr: ndarray, kernel_size):\n",
    "    N, M = image_arr.shape\n",
    "    m, n = kernel_size\n",
    "    \n",
    "    n_rows = int((m - 1) / 2)\n",
    "    n_cols = int((n - 1) / 2)\n",
    "    \n",
    "    # add top and bottom padding\n",
    "    top_bottom_zeros = np.zeros((n_rows, M))\n",
    "    image_arr = np.vstack([top_bottom_zeros, image_arr, top_bottom_zeros])\n",
    "    \n",
    "    # add left and right padding\n",
    "    left_bottom_zeros = np.zeros((N + n_rows * 2, n_cols)) # (m - 1) rows need to be added\n",
    "    image_arr = np.hstack([left_bottom_zeros, image_arr, left_bottom_zeros])\n",
    "    \n",
    "    image_arr = image_arr.astype('uint64')\n",
    "    \n",
    "    return image_arr"
   ]
  },
  {
   "cell_type": "code",
   "execution_count": 60,
   "id": "a0ac7314-ded3-45e0-b2f1-f0aac84acb28",
   "metadata": {},
   "outputs": [],
   "source": [
    "def inner_product(a: ndarray, b: ndarray):\n",
    "    return np.sum(a * b)"
   ]
  },
  {
   "cell_type": "code",
   "execution_count": 61,
   "id": "ec52f704-e108-4004-b455-0309e84e5407",
   "metadata": {},
   "outputs": [],
   "source": [
    "def conv_2d(inp: ndarray, kernel: ndarray) -> ndarray:\n",
    "    \n",
    "    # pad the image\n",
    "    inp_pad = pad_2d(inp, kernel.shape)\n",
    "    \n",
    "    # initialize the output\n",
    "    out = np.zeros_like(inp)\n",
    "    \n",
    "    # flip the kernel horizontally and vertically\n",
    "    kernel = np.flipud(np.fliplr(kernel))\n",
    "    \n",
    "    # convolution process\n",
    "    for i in tqdm(range(inp_pad.shape[0] - kernel.shape[0] + 1)):\n",
    "        for j in range(inp_pad.shape[1] - kernel.shape[1] + 1):\n",
    "            sub_arr = inp_pad[i:i + kernel.shape[0], j:j + kernel.shape[1]]\n",
    "            out[i, j] = inner_product(sub_arr, kernel)\n",
    "    \n",
    "    return out"
   ]
  },
  {
   "cell_type": "code",
   "execution_count": 102,
   "id": "391e4049-f00f-48e5-b68f-a507f1c90d57",
   "metadata": {},
   "outputs": [],
   "source": [
    "def show_image(inp: ndarray):\n",
    "    plt.imshow(inp, cmap=\"gray\")\n",
    "    plt.axis(\"off\")\n",
    "    plt.show()"
   ]
  },
  {
   "cell_type": "markdown",
   "id": "c163ee10-b715-463b-aff3-f1460ffd17e3",
   "metadata": {},
   "source": [
    "--- \n",
    "# Filters"
   ]
  },
  {
   "cell_type": "markdown",
   "id": "8f4812d2-076a-4fc6-b6de-685289f97e25",
   "metadata": {},
   "source": [
    "## 1. Sobel"
   ]
  },
  {
   "cell_type": "code",
   "execution_count": 74,
   "id": "c666588f-8389-4236-8899-a3259be61f4d",
   "metadata": {},
   "outputs": [],
   "source": [
    "sobel_y = np.array([\n",
    "    [-1, -2, -1],\n",
    "    [0, 0, 0],\n",
    "    [1, 2, 1],\n",
    "])\n",
    "\n",
    "sobel_x = np.array([\n",
    "    [-1, 0, 1],\n",
    "    [-2, 0, 2],\n",
    "    [-1, 0, 1],\n",
    "])"
   ]
  },
  {
   "cell_type": "code",
   "execution_count": 103,
   "id": "261741db-01bd-485d-9e24-c7a8a0242e9c",
   "metadata": {},
   "outputs": [
    {
     "name": "stderr",
     "output_type": "stream",
     "text": [
      "100%|█████████████████████████████████████████████████████████████████████████████████| 28/28 [00:00<00:00, 495.18it/s]\n"
     ]
    },
    {
     "data": {
      "image/png": "[encoded data removed]",
      "text/plain": [
       "<Figure size 640x480 with 1 Axes>"
      ]
     },
     "metadata": {},
     "output_type": "display_data"
    }
   ],
   "source": [
    "g_x = conv_2d(img_arr, sobel_x)\n",
    "\n",
    "show_image(g_x)"
   ]
  },
  {
   "cell_type": "code",
   "execution_count": 104,
   "id": "4d58f5dd-4a6c-4729-8986-a8f98f5b2ca6",
   "metadata": {},
   "outputs": [
    {
     "name": "stderr",
     "output_type": "stream",
     "text": [
      "100%|█████████████████████████████████████████████████████████████████████████████████| 28/28 [00:00<00:00, 482.78it/s]\n"
     ]
    },
    {
     "data": {
      "image/png": "[encoded data removed]",
      "text/plain": [
       "<Figure size 640x480 with 1 Axes>"
      ]
     },
     "metadata": {},
     "output_type": "display_data"
    }
   ],
   "source": [
    "g_y = conv_2d(img_arr, sobel_y)\n",
    "\n",
    "show_image(g_y)"
   ]
  },
  {
   "cell_type": "code",
   "execution_count": 105,
   "id": "4127dc0b-8f56-4ecc-89ba-20353b22ee8a",
   "metadata": {},
   "outputs": [
    {
     "data": {
      "image/png": "[encoded data removed]",
      "text/plain": [
       "<Figure size 640x480 with 1 Axes>"
      ]
     },
     "metadata": {},
     "output_type": "display_data"
    }
   ],
   "source": [
    "M = np.abs(g_x) + np.abs(g_y)\n",
    "\n",
    "show_image(M)"
   ]
  },
  {
   "cell_type": "markdown",
   "id": "9a23ce03-f2ab-43fc-b6c1-97c0f4fec03c",
   "metadata": {},
   "source": [
    "## 2. Prewitt"
   ]
  },
  {
   "cell_type": "code",
   "execution_count": 106,
   "id": "1ccf7ad2-85dc-4a44-84d4-b8c754feb13e",
   "metadata": {},
   "outputs": [],
   "source": [
    "prewitt_y = np.array([\n",
    "    [-1, -1, -1],\n",
    "    [0, 0, 0],\n",
    "    [1, 1, 1],\n",
    "])\n",
    "\n",
    "prewitt_x = np.array([\n",
    "    [-1, 0, 1],\n",
    "    [-1, 0, 1],\n",
    "    [-1, 0, 1],\n",
    "])"
   ]
  },
  {
   "cell_type": "code",
   "execution_count": 112,
   "id": "46696074-c5f6-44e2-bc5a-79f8591ffa95",
   "metadata": {},
   "outputs": [
    {
     "name": "stderr",
     "output_type": "stream",
     "text": [
      "100%|█████████████████████████████████████████████████████████████████████████████████| 28/28 [00:00<00:00, 474.57it/s]\n"
     ]
    },
    {
     "data": {
      "image/png": "[encoded data removed]",
      "text/plain": [
       "<Figure size 640x480 with 1 Axes>"
      ]
     },
     "metadata": {},
     "output_type": "display_data"
    }
   ],
   "source": [
    "g_x = conv_2d(img_arr, prewitt_x)\n",
    "\n",
    "show_image(g_x)"
   ]
  },
  {
   "cell_type": "code",
   "execution_count": 113,
   "id": "80071cd6-d4f9-46b5-8040-9d02d8bf5dc4",
   "metadata": {},
   "outputs": [
    {
     "name": "stderr",
     "output_type": "stream",
     "text": [
      "100%|█████████████████████████████████████████████████████████████████████████████████| 28/28 [00:00<00:00, 437.60it/s]\n"
     ]
    },
    {
     "data": {
      "image/png": "[encoded data removed]",
      "text/plain": [
       "<Figure size 640x480 with 1 Axes>"
      ]
     },
     "metadata": {},
     "output_type": "display_data"
    }
   ],
   "source": [
    "g_y = conv_2d(img_arr, prewitt_y)\n",
    "\n",
    "show_image(g_y)"
   ]
  },
  {
   "cell_type": "code",
   "execution_count": 114,
   "id": "7ddd7c9b-2001-4d9c-ae5c-a8960e3fe42c",
   "metadata": {},
   "outputs": [
    {
     "data": {
      "image/png": "[encoded data removed]",
      "text/plain": [
       "<Figure size 640x480 with 1 Axes>"
      ]
     },
     "metadata": {},
     "output_type": "display_data"
    }
   ],
   "source": [
    "M = np.abs(g_x) + np.abs(g_y)\n",
    "\n",
    "show_image(M)"
   ]
  },
  {
   "cell_type": "code",
   "execution_count": 116,
   "id": "7eae582e-bb6f-4ea1-a7d5-4b3ac7c882e9",
   "metadata": {},
   "outputs": [
    {
     "data": {
      "text/plain": [
       "(28, 28)"
      ]
     },
     "execution_count": 116,
     "metadata": {},
     "output_type": "execute_result"
    }
   ],
   "source": [
    "g_x.shape"
   ]
  },
  {
   "cell_type": "code",
   "execution_count": 122,
   "id": "16f1eb15-f1e3-4789-8513-e5ad36bfaba7",
   "metadata": {},
   "outputs": [
    {
     "name": "stderr",
     "output_type": "stream",
     "text": [
      "100%|█████████████████████████████████████████████████████████████████████████████████| 28/28 [00:00<00:00, 509.25it/s]\n"
     ]
    },
    {
     "data": {
      "image/png": "[encoded data removed]",
      "text/plain": [
       "<Figure size 640x480 with 1 Axes>"
      ]
     },
     "metadata": {},
     "output_type": "display_data"
    }
   ],
   "source": [
    "g_x = conv_2d(M, prewitt_x)\n",
    "show_image(g_x)"
   ]
  },
  {
   "cell_type": "code",
   "execution_count": 123,
   "id": "bb158fc0-d843-47b3-b905-29c318763933",
   "metadata": {},
   "outputs": [
    {
     "name": "stderr",
     "output_type": "stream",
     "text": [
      "100%|█████████████████████████████████████████████████████████████████████████████████| 28/28 [00:00<00:00, 482.95it/s]\n"
     ]
    },
    {
     "data": {
      "image/png": "[encoded data removed]",
      "text/plain": [
       "<Figure size 640x480 with 1 Axes>"
      ]
     },
     "metadata": {},
     "output_type": "display_data"
    }
   ],
   "source": [
    "g_y = conv_2d(M, prewitt_y)\n",
    "show_image(g_y)"
   ]
  },
  {
   "cell_type": "code",
   "execution_count": 124,
   "id": "9b7d0e06-633e-4c85-805c-303327a0a319",
   "metadata": {},
   "outputs": [
    {
     "data": {
      "image/png": "[encoded data removed]",
      "text/plain": [
       "<Figure size 640x480 with 1 Axes>"
      ]
     },
     "metadata": {},
     "output_type": "display_data"
    }
   ],
   "source": [
    "M = np.abs(g_x) + np.abs(g_y)\n",
    "show_image(M)"
   ]
  },
  {
   "cell_type": "code",
   "execution_count": 127,
   "id": "efa63e5f-328c-437c-8412-f6a84c44fcd5",
   "metadata": {},
   "outputs": [],
   "source": [
    "from tabulate import tabulate"
   ]
  },
  {
   "cell_type": "code",
   "execution_count": 130,
   "id": "16fccdf0-bdd0-48d5-a58c-244df1608cd8",
   "metadata": {},
   "outputs": [
    {
     "name": "stdout",
     "output_type": "stream",
     "text": [
      "-  -  -  ----  ----  ----  ----  ----  ----  ----  ----  ----  ----  ----  ----  ----  ----  ----  ----  ----  ----  ----  ----  -  -  -  -  -\n",
      "0  0  0     0     0     0     0     0     0     0     0     0     0     0     0     0     0     0     0     0     0     0     0  0  0  0  0  0\n",
      "0  0  0     0     0     0     0     0     0     0     0     0     0     0     0     0     0     0     0     0     0     0     0  0  0  0  0  0\n",
      "0  0  0     0     0     0     0     0     0     0     0     0     0     0     0     0     0     0     0     0     0     0     0  0  0  0  0  0\n",
      "0  0  0     0     0     0     0     0     0   424  1440  2138  2290  2290  2291  2290  2290  2286  2209  1826  1116   408     0  0  0  0  0  0\n",
      "0  0  0     0     0     0     0     0     0  1064  2880  3284  2597  2573  2279  2279  2429  2581  2889  3214  2868  1448   128  0  0  0  0  0\n",
      "0  0  0     0     0     0     0     0     0  1170  2710  1514   876  1117  1147   786  1252  1290   911   953  3265  2618   656  0  0  0  0  0\n",
      "0  0  0     0     0     0     0     0     0  1224  2709  1457   838   446   362   310   276   687  1098  1142  1841  3068  1240  0  0  0  0  0\n",
      "0  0  0     0     0     0     0     0     0  1116  2687  2107   673   478    80   205   990  1530   929  1255   873  2705  1492  0  0  0  0  0\n",
      "0  0  0     0     0     0     0     0     0   848  2263  3155  2421  2361  2510  2356  3162  1016  1560   597   559  2561  1530  0  0  0  0  0\n",
      "0  0  0     0     0     0     0     0     0   208   760  1702  1683  1797  1399  1263  2315   760  1770   853   649  2611  1530  0  0  0  0  0\n",
      "0  0  0     0     0     0     0     0     0     0    60   240   255   255  1356  3133  3388   708   770  1413   895  3027  1426  0  0  0  0  0\n",
      "0  0  0     0     0     0     0     0     0     0    40   208   742  1886  3360  3440   358  1619   909   842  2441  3015   947  0  0  0  0  0\n",
      "0  0  0     0     0     0     0     0   136   452  1170  2059  2827  3426  3082   736  2256  1010  1400   258  3257  2162   276  0  0  0  0  0\n",
      "0  0  0     0     0     0     0   164  1212  2349  3064  3297  2710  1530   572  2746  2710  1745  1754  2142  3030  1240    12  0  0  0  0  0\n",
      "0  0  0     0     0     0     0   488  2364  3352  2184   392   978  1672  1452  1784  1077  1779  1647  2435  2352   572     0  0  0  0  0  0\n",
      "0  0  0     0     0     0     0   529  2388  2299   182   989   295   356  1403  2370  2161  2129  1204  2211  2018   318     0  0  0  0  0  0\n",
      "0  0  0     0     0     0     0   569  2413  2223   273  1466  1342   709   311   197  1759  1430   955  2295  1945   276     0  0  0  0  0  0\n",
      "0  0  0     0     0    56    56   422  2335  2590  1320  1507  1976  1755  1760   428   999  1044   411  3069  1972   264     0  0  0  0  0  0\n",
      "0  0  0    40   584  1118  1216   927   828  2091  2649  2343  1499   943  1874  1122   434  1250  1552  2804  1160    48     0  0  0  0  0  0\n",
      "0  0  0   256  1792  2008  1903  1685  1378   106   642  1574  2628  2771   141   901   968   375  2968  2682   688     0     0  0  0  0  0  0\n",
      "0  0  0   814  2816  1944  1209  1175  2689  2052  3088  3265  1764   463  1050   293   776  1955  3615  1912   336     0     0  0  0  0  0  0\n",
      "0  0  0   922  2615   931   251   857  2073  1907  1317   392  1340   773   965   881   947  3652  2489   568     0     0     0  0  0  0  0  0\n",
      "0  0  0  1015  2551   790  1428  1221  1792  1872  1309   315   611   981   174  1669  3506  2888  1024     0     0     0     0  0  0  0  0  0\n",
      "0  0  0   938  2545  1587  1160  1050   430   712   916  1366   585  1190  2995  3318  2513  1164   148     0     0     0     0  0  0  0  0  0\n",
      "0  0  0   897  2771  2585   178  1708  1683  1049   431  1767  3188  3370  2603  1546   628   120     0     0     0     0     0  0  0  0  0  0\n",
      "0  0  0   396  1890  3176  3155  2697  2697  2901  3041  3015  2614  1532   600    96     0     0     0     0     0     0     0  0  0  0  0  0\n",
      "0  0  0   116   656  1497  2075  2172  2193  2080  1697  1074   556    56     0     0     0     0     0     0     0     0     0  0  0  0  0  0\n",
      "0  0  0     0     0     0     0     0     0     0     0     0     0     0     0     0     0     0     0     0     0     0     0  0  0  0  0  0\n",
      "-  -  -  ----  ----  ----  ----  ----  ----  ----  ----  ----  ----  ----  ----  ----  ----  ----  ----  ----  ----  ----  ----  -  -  -  -  -\n"
     ]
    }
   ],
   "source": [
    "print(tabulate(M, tablefmt=\"simple\"))"
   ]
  },
  {
   "cell_type": "code",
   "execution_count": null,
   "id": "741dabb2-792b-45fe-ba7f-24f45177d700",
   "metadata": {},
   "outputs": [],
   "source": []
  }
 ],
 "metadata": {
  "kernelspec": {
   "display_name": "Python 3 (ipykernel)",
   "language": "python",
   "name": "python3"
  },
  "language_info": {
   "codemirror_mode": {
    "name": "ipython",
    "version": 3
   },
   "file_extension": ".py",
   "mimetype": "text/x-python",
   "name": "python",
   "nbconvert_exporter": "python",
   "pygments_lexer": "ipython3",
   "version": "3.10.8"
  }
 },
 "nbformat": 4,
 "nbformat_minor": 5
}
